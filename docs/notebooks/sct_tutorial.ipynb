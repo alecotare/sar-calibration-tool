{
 "cells": [
  {
   "cell_type": "markdown",
   "id": "0cea428a",
   "metadata": {},
   "source": [
    "# SAR Calibration Tool: Tutorial"
   ]
  },
  {
   "cell_type": "markdown",
   "id": "eea4b0a5",
   "metadata": {},
   "source": [
    "The current Jupyter Notebook can be used to exploit the SAR Calibration Tool functionalities to analyse a SAR product acquired over a calibration site and store the results in the calibration database."
   ]
  },
  {
   "cell_type": "markdown",
   "id": "ea790e24",
   "metadata": {},
   "source": [
    "## Installation"
   ]
  },
  {
   "cell_type": "markdown",
   "id": "16a28c73",
   "metadata": {},
   "source": [
    "In order to install the SAR Calibration Tool follow the instruction reported in the documentation."
   ]
  },
  {
   "cell_type": "markdown",
   "id": "48adec6f",
   "metadata": {},
   "source": [
    "## Setup"
   ]
  },
  {
   "cell_type": "markdown",
   "id": "0e5e02d3",
   "metadata": {},
   "source": [
    "Import the required packages."
   ]
  },
  {
   "cell_type": "code",
   "execution_count": null,
   "id": "ad3c8313",
   "metadata": {},
   "outputs": [],
   "source": [
    "import os\n",
    "\n",
    "from sct.analysis.calibrationsite import CalibrationSite\n",
    "from sct.configuration.configuration import Configuration"
   ]
  },
  {
   "cell_type": "markdown",
   "id": "8222dd28",
   "metadata": {},
   "source": [
    "Define useful inputs:\n",
    "\n",
    "- Configuration file, defining the parameters to be used during processing\n",
    "\n",
    "  Note: Remember to properly update it before running the tool. In particular, properly set the paths (to auxiliary files, ...) according to your local setup. By default, the configuration file is placed in the ``resources/configuration`` sub-folder of the SCT distribution).\n"
   ]
  },
  {
   "cell_type": "code",
   "execution_count": null,
   "id": "a0e0e1dc",
   "metadata": {},
   "outputs": [],
   "source": [
    "configuration_file       = os.path.join('../../resources/configuration/configuration_file.xml')"
   ]
  },
  {
   "cell_type": "markdown",
   "id": "aaa6562b",
   "metadata": {},
   "source": [
    "- Calibration site parameters, i.e.:\n",
    "  - its identifier\n",
    "  - the calibration targets file, describing position, validity, ... of each target belonging to the site\n",
    "  - the bounding polygon file, describing the area covered by the site\n",
    "\n",
    "  Note: By default, these file are placed in the ``resources/calibration_db/<calibration site identifier>`` sub-folder of the SCT distribution. Sample files are provided within it."
   ]
  },
  {
   "cell_type": "code",
   "execution_count": null,
   "id": "bf606bc9",
   "metadata": {},
   "outputs": [],
   "source": [
    "calibration_site_id      = 'surat_basin'\n",
    "calibration_site_dir     = os.path.join('../../resources/calibration_sites/', calibration_site_id)\n",
    "calibration_targets_file = os.path.join(calibration_site_dir, 'calibration_targets.xlsx')\n",
    "bounding_polygon_file    = os.path.join(calibration_site_dir, 'bounding_polygon.geojson')"
   ]
  },
  {
   "cell_type": "markdown",
   "id": "ef368056",
   "metadata": {},
   "source": [
    "- Calibration database file, including the results collected so far and where to store the new results. The same file can be used if you want to append the new results.\n",
    "\n",
    "  Note: By default, these file are placed in the ``resources/calibration_sites/<calibration site identifier>`` sub-folder of the SCT distribution. Sample files are provided within it."
   ]
  },
  {
   "cell_type": "code",
   "execution_count": null,
   "id": "f6c92dfa",
   "metadata": {},
   "outputs": [],
   "source": [
    "calibration_db_dir       = os.path.join('../../resources/calibration_db/', calibration_site_id)\n",
    "calibration_db_file_in   = os.path.join(calibration_db_dir, 'calibration_db.xlsx')\n",
    "calibration_db_file_out  = os.path.join(calibration_db_dir, 'calibration_db__updated.xlsx')"
   ]
  },
  {
   "cell_type": "markdown",
   "id": "977fb1dd",
   "metadata": {},
   "source": [
    "- SAR product path, indicating the product to be analysed\n",
    "\n",
    "  Note: By default, SAR products are placed in the ``data/sar_products`` sub-folder of the SCT distribution."
   ]
  },
  {
   "cell_type": "code",
   "execution_count": null,
   "id": "2e649222",
   "metadata": {},
   "outputs": [],
   "source": [
    "sar_products_dir         = '../../data/sar_products'\n",
    "sar_product_dir          = os.path.join(sar_products_dir, 'S1A_IW_SLC__1SSH_20201204T083311_20201204T083338_035533_042794_32B3.SAFE')"
   ]
  },
  {
   "cell_type": "markdown",
   "id": "cdac73e8",
   "metadata": {},
   "source": [
    "- Auxiliary files:\n",
    "  - (optionally) Orbit file path, indicating the external orbit file to be used during processing\n",
    "  - Ionosphere maps folder, indicating the location of maps to be used to apply ionospheric delay compensation\n",
    "  - Troposphere maps folder, indicating the location of maps to be used to apply tropospheric delay compensation. In this folder shall be present also the spherical harmonics coefficients files and then grid point coordinates files, by default included in the SCT distribution\n",
    "  \n",
    "Note: Ionosphere and troposphere maps folders shall be specified in the SCT configuration file. By default, auxiliary files are placed in the ``data/auxiliary_files/*`` sub-folders of the SCT distribution."
   ]
  },
  {
   "cell_type": "code",
   "execution_count": null,
   "id": "33f0fffd",
   "metadata": {},
   "outputs": [],
   "source": [
    "orbits_dir               = '../../data/auxiliary_files/orbits'\n",
    "orbit_file               = os.path.join(orbits_dir, 'S1A_OPER_AUX_RESORB_OPOD_20201204T112515_V20201204T070214_20201204T101944.EOF')"
   ]
  },
  {
   "cell_type": "markdown",
   "id": "fcf842b8",
   "metadata": {},
   "source": [
    "### SAR products and auxiliary files retrieval"
   ]
  },
  {
   "cell_type": "markdown",
   "id": "c612a708",
   "metadata": {},
   "source": [
    "Note that both SAR products and auxiliary files shall be manually downloaded and made available to SCT as above described.\n",
    "\n",
    "SAR products and auxiliary orbit files can be downloaded from Copernicus Open Access Hub (https://scihub.copernicus.eu/).\n",
    "\n",
    "Ionosphere and troposphere maps can be downloaded respectively from:\n",
    "\n",
    "- Ionosphere maps (cod* files): https://cddis.nasa.gov/Data_and_Derived_Products/GNSS/atmospheric_products.html\n",
    "- Troposphere maps (VMF3* files): https://vmf.geo.tuwien.ac.at/\n",
    "\n",
    "In case of zipped archives, be sure to properly unzip them."
   ]
  },
  {
   "cell_type": "markdown",
   "id": "5a3bdd27",
   "metadata": {},
   "source": [
    "## Run SAR Calibration Tool"
   ]
  },
  {
   "cell_type": "markdown",
   "id": "78dbddd6",
   "metadata": {},
   "source": [
    "Load configuration file:"
   ]
  },
  {
   "cell_type": "code",
   "execution_count": null,
   "id": "64430ff8",
   "metadata": {},
   "outputs": [],
   "source": [
    "configuration = Configuration(configuration_file)"
   ]
  },
  {
   "cell_type": "markdown",
   "id": "9b55b52b",
   "metadata": {},
   "source": [
    "Initialise and load calibration site:"
   ]
  },
  {
   "cell_type": "code",
   "execution_count": null,
   "id": "90343a5c",
   "metadata": {},
   "outputs": [],
   "source": [
    "cs = CalibrationSite(calibration_site_id, calibration_targets_file, bounding_polygon_file)\n",
    "\n",
    "cs.load_calibration_db(calibration_db_file_in)"
   ]
  },
  {
   "cell_type": "markdown",
   "id": "0b9b48b0",
   "metadata": {},
   "source": [
    "Add a new overpass (i.e. a new SAR product to be analysed):"
   ]
  },
  {
   "cell_type": "code",
   "execution_count": null,
   "id": "0b44c493",
   "metadata": {},
   "outputs": [],
   "source": [
    "sar_product = cs.add_overpass(sar_product_dir)\n",
    "\n",
    "#sar_product = cs.add_overpass(sar_product_dir, orbit_file)   # use this in case you want to use an external orbit for processing"
   ]
  },
  {
   "cell_type": "markdown",
   "id": "63d7e7ee",
   "metadata": {},
   "source": [
    "Analyse the SAR product:"
   ]
  },
  {
   "cell_type": "code",
   "execution_count": null,
   "id": "37a6dacc",
   "metadata": {},
   "outputs": [],
   "source": [
    "results = cs.analyse_overpass(sar_product, configuration.calibration_site_analysis_conf)"
   ]
  },
  {
   "cell_type": "markdown",
   "id": "1a87b3df",
   "metadata": {},
   "source": [
    "Store results in the calibration database:"
   ]
  },
  {
   "cell_type": "code",
   "execution_count": null,
   "id": "748d81b6",
   "metadata": {},
   "outputs": [],
   "source": [
    "cs.save_calibration_db(calibration_db_file_out)"
   ]
  },
  {
   "cell_type": "markdown",
   "id": "8b498955",
   "metadata": {},
   "source": [
    "In order to get more details on performed processing, inspect log file saved on disk. Note that log file contains also debug messages, in addition to information messages printed to stdout/stderr.\n",
    "\n",
    "In order to display results, follow the instructions reported in the sct_display_results Jupyter Notebook."
   ]
  }
 ],
 "metadata": {
  "kernelspec": {
   "display_name": "Python 3",
   "language": "python",
   "name": "python3"
  },
  "language_info": {
   "codemirror_mode": {
    "name": "ipython",
    "version": 3
   },
   "file_extension": ".py",
   "mimetype": "text/x-python",
   "name": "python",
   "nbconvert_exporter": "python",
   "pygments_lexer": "ipython3",
   "version": "3.7.10"
  }
 },
 "nbformat": 4,
 "nbformat_minor": 5
}
